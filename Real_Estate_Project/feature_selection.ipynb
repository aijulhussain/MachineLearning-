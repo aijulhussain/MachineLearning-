{
 "cells": [
  {
   "cell_type": "code",
   "execution_count": 18,
   "id": "6d3c70c2",
   "metadata": {},
   "outputs": [],
   "source": [
    "import pandas as pd\n",
    "import numpy as np\n",
    "import matplotlib.pyplot as plt\n",
    "import seaborn as sns"
   ]
  },
  {
   "cell_type": "code",
   "execution_count": 19,
   "id": "9232554d",
   "metadata": {},
   "outputs": [],
   "source": [
    "pd.set_option('display.max_columns', None)"
   ]
  },
  {
   "cell_type": "code",
   "execution_count": 20,
   "id": "f8531534",
   "metadata": {},
   "outputs": [
    {
     "name": "stdout",
     "output_type": "stream",
     "text": [
      "C:\\Users\\aijul\\Desktop\\dataScience-\\Real_Estate_Project\\dataset\n"
     ]
    }
   ],
   "source": [
    "cd \"C:\\Users\\aijul\\Desktop\\dataScience-\\Real_Estate_Project\\dataset\""
   ]
  },
  {
   "cell_type": "code",
   "execution_count": 21,
   "id": "e948ea87",
   "metadata": {},
   "outputs": [],
   "source": [
    "df= pd.read_csv('gurgaon_properties_outliers_tre')"
   ]
  },
  {
   "cell_type": "code",
   "execution_count": 22,
   "id": "8784f20d",
   "metadata": {},
   "outputs": [
    {
     "data": {
      "text/plain": [
       "property_type             0\n",
       "society                   1\n",
       "sector                    0\n",
       "price                     0\n",
       "price_per_sqft            0\n",
       "area                      0\n",
       "areaWithType              0\n",
       "bedRoom                   0\n",
       "bathroom                  0\n",
       "balcony                   0\n",
       "floorNum                 17\n",
       "facing                 1011\n",
       "agePossession             0\n",
       "super_built_up_area    1681\n",
       "built_up_area          1967\n",
       "carpet_area            1718\n",
       "study room                0\n",
       "servant room              0\n",
       "store room                0\n",
       "pooja room                0\n",
       "others                    0\n",
       "furnishing_type           0\n",
       "luxury_score              0\n",
       "area_room_ratio           0\n",
       "dtype: int64"
      ]
     },
     "execution_count": 22,
     "metadata": {},
     "output_type": "execute_result"
    }
   ],
   "source": [
    "df.isnull().sum()"
   ]
  },
  {
   "cell_type": "code",
   "execution_count": null,
   "id": "b998ddd0",
   "metadata": {},
   "outputs": [],
   "source": []
  }
 ],
 "metadata": {
  "kernelspec": {
   "display_name": "Python 3 (ipykernel)",
   "language": "python",
   "name": "python3"
  },
  "language_info": {
   "codemirror_mode": {
    "name": "ipython",
    "version": 3
   },
   "file_extension": ".py",
   "mimetype": "text/x-python",
   "name": "python",
   "nbconvert_exporter": "python",
   "pygments_lexer": "ipython3",
   "version": "3.9.13"
  }
 },
 "nbformat": 4,
 "nbformat_minor": 5
}
