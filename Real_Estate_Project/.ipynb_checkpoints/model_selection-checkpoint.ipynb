{
 "cells": [
  {
   "cell_type": "code",
   "execution_count": 13,
   "id": "c9c82d5b",
   "metadata": {},
   "outputs": [],
   "source": [
    "import pandas as pd\n",
    "import numpy as np\n",
    "from sklearn.model_selection import KFold, cross_val_score\n",
    "from sklearn.linear_model import LinearRegression\n",
    "from sklearn.pipeline import Pipeline\n",
    "from sklearn.preprocessing import OneHotEncoder, StandardScaler, OrdinalEncoder\n",
    "from sklearn.compose import ColumnTransformer\n",
    "from sklearn.svm import SVR\n",
    "\n",
    "from sklearn.model_selection import train_test_split\n",
    "from sklearn.metrics import mean_absolute_error\n",
    "\n",
    "from sklearn.decomposition import PCA"
   ]
  },
  {
   "cell_type": "code",
   "execution_count": 14,
   "id": "9967e967",
   "metadata": {},
   "outputs": [
    {
     "name": "stdout",
     "output_type": "stream",
     "text": [
      "C:\\Users\\aijul\\Desktop\\dataScience-\\Real_Estate_Project\\dataset\n"
     ]
    }
   ],
   "source": [
    "cd \"C:\\Users\\aijul\\Desktop\\dataScience-\\Real_Estate_Project\\dataset\""
   ]
  },
  {
   "cell_type": "code",
   "execution_count": 15,
   "id": "85ccf1d8",
   "metadata": {},
   "outputs": [],
   "source": [
    "df =pd.read_csv('gurgaon_properties_post_feature_selection_v2.csv')"
   ]
  },
  {
   "cell_type": "code",
   "execution_count": 16,
   "id": "f5891f77",
   "metadata": {},
   "outputs": [
    {
     "data": {
      "text/html": [
       "<div>\n",
       "<style scoped>\n",
       "    .dataframe tbody tr th:only-of-type {\n",
       "        vertical-align: middle;\n",
       "    }\n",
       "\n",
       "    .dataframe tbody tr th {\n",
       "        vertical-align: top;\n",
       "    }\n",
       "\n",
       "    .dataframe thead th {\n",
       "        text-align: right;\n",
       "    }\n",
       "</style>\n",
       "<table border=\"1\" class=\"dataframe\">\n",
       "  <thead>\n",
       "    <tr style=\"text-align: right;\">\n",
       "      <th></th>\n",
       "      <th>property_type</th>\n",
       "      <th>sector</th>\n",
       "      <th>price</th>\n",
       "      <th>bedRoom</th>\n",
       "      <th>bathroom</th>\n",
       "      <th>balcony</th>\n",
       "      <th>agePossession</th>\n",
       "      <th>built_up_area</th>\n",
       "      <th>servant room</th>\n",
       "      <th>store room</th>\n",
       "      <th>furnishing_type</th>\n",
       "      <th>luxury_category</th>\n",
       "      <th>floor_category</th>\n",
       "    </tr>\n",
       "  </thead>\n",
       "  <tbody>\n",
       "    <tr>\n",
       "      <th>0</th>\n",
       "      <td>flat</td>\n",
       "      <td>sector 36</td>\n",
       "      <td>0.82</td>\n",
       "      <td>3.0</td>\n",
       "      <td>2.0</td>\n",
       "      <td>2</td>\n",
       "      <td>New Property</td>\n",
       "      <td>850.0</td>\n",
       "      <td>0.0</td>\n",
       "      <td>0.0</td>\n",
       "      <td>0.0</td>\n",
       "      <td>Low</td>\n",
       "      <td>Low Floor</td>\n",
       "    </tr>\n",
       "    <tr>\n",
       "      <th>1</th>\n",
       "      <td>flat</td>\n",
       "      <td>sector 89</td>\n",
       "      <td>0.95</td>\n",
       "      <td>2.0</td>\n",
       "      <td>2.0</td>\n",
       "      <td>2</td>\n",
       "      <td>New Property</td>\n",
       "      <td>1226.0</td>\n",
       "      <td>1.0</td>\n",
       "      <td>0.0</td>\n",
       "      <td>0.0</td>\n",
       "      <td>Low</td>\n",
       "      <td>Mid Floor</td>\n",
       "    </tr>\n",
       "    <tr>\n",
       "      <th>2</th>\n",
       "      <td>flat</td>\n",
       "      <td>sohna road</td>\n",
       "      <td>0.32</td>\n",
       "      <td>2.0</td>\n",
       "      <td>2.0</td>\n",
       "      <td>1</td>\n",
       "      <td>New Property</td>\n",
       "      <td>1000.0</td>\n",
       "      <td>0.0</td>\n",
       "      <td>0.0</td>\n",
       "      <td>0.0</td>\n",
       "      <td>Low</td>\n",
       "      <td>High Floor</td>\n",
       "    </tr>\n",
       "    <tr>\n",
       "      <th>3</th>\n",
       "      <td>flat</td>\n",
       "      <td>sector 92</td>\n",
       "      <td>1.60</td>\n",
       "      <td>3.0</td>\n",
       "      <td>4.0</td>\n",
       "      <td>3+</td>\n",
       "      <td>Relatively New</td>\n",
       "      <td>1615.0</td>\n",
       "      <td>1.0</td>\n",
       "      <td>0.0</td>\n",
       "      <td>1.0</td>\n",
       "      <td>High</td>\n",
       "      <td>Mid Floor</td>\n",
       "    </tr>\n",
       "    <tr>\n",
       "      <th>4</th>\n",
       "      <td>flat</td>\n",
       "      <td>sector 102</td>\n",
       "      <td>0.48</td>\n",
       "      <td>2.0</td>\n",
       "      <td>2.0</td>\n",
       "      <td>1</td>\n",
       "      <td>Relatively New</td>\n",
       "      <td>582.0</td>\n",
       "      <td>0.0</td>\n",
       "      <td>1.0</td>\n",
       "      <td>0.0</td>\n",
       "      <td>High</td>\n",
       "      <td>Mid Floor</td>\n",
       "    </tr>\n",
       "  </tbody>\n",
       "</table>\n",
       "</div>"
      ],
      "text/plain": [
       "  property_type      sector  price  bedRoom  bathroom balcony   agePossession  \\\n",
       "0          flat   sector 36   0.82      3.0       2.0       2    New Property   \n",
       "1          flat   sector 89   0.95      2.0       2.0       2    New Property   \n",
       "2          flat  sohna road   0.32      2.0       2.0       1    New Property   \n",
       "3          flat   sector 92   1.60      3.0       4.0      3+  Relatively New   \n",
       "4          flat  sector 102   0.48      2.0       2.0       1  Relatively New   \n",
       "\n",
       "   built_up_area  servant room  store room  furnishing_type luxury_category  \\\n",
       "0          850.0           0.0         0.0              0.0             Low   \n",
       "1         1226.0           1.0         0.0              0.0             Low   \n",
       "2         1000.0           0.0         0.0              0.0             Low   \n",
       "3         1615.0           1.0         0.0              1.0            High   \n",
       "4          582.0           0.0         1.0              0.0            High   \n",
       "\n",
       "  floor_category  \n",
       "0      Low Floor  \n",
       "1      Mid Floor  \n",
       "2     High Floor  \n",
       "3      Mid Floor  \n",
       "4      Mid Floor  "
      ]
     },
     "execution_count": 16,
     "metadata": {},
     "output_type": "execute_result"
    }
   ],
   "source": [
    "df.head()"
   ]
  },
  {
   "cell_type": "code",
   "execution_count": 17,
   "id": "1da52194",
   "metadata": {},
   "outputs": [
    {
     "data": {
      "text/plain": [
       "0.0    2349\n",
       "1.0    1018\n",
       "2.0     187\n",
       "Name: furnishing_type, dtype: int64"
      ]
     },
     "execution_count": 17,
     "metadata": {},
     "output_type": "execute_result"
    }
   ],
   "source": [
    "df['furnishing_type'].value_counts()"
   ]
  },
  {
   "cell_type": "code",
   "execution_count": 18,
   "id": "7ef75745",
   "metadata": {},
   "outputs": [],
   "source": [
    "# 0 -> unfurnished\n",
    "# 2 -> semifurnished\n",
    "# 2 -> furnished\n",
    "\n",
    "df['furnishing_type'] = df['furnishing_type'].replace({0.0: 'unfurnished', 1.0: 'semifurnished', 2.0: 'furnished'})"
   ]
  },
  {
   "cell_type": "code",
   "execution_count": 19,
   "id": "b74cbef5",
   "metadata": {},
   "outputs": [
    {
     "data": {
      "text/html": [
       "<div>\n",
       "<style scoped>\n",
       "    .dataframe tbody tr th:only-of-type {\n",
       "        vertical-align: middle;\n",
       "    }\n",
       "\n",
       "    .dataframe tbody tr th {\n",
       "        vertical-align: top;\n",
       "    }\n",
       "\n",
       "    .dataframe thead th {\n",
       "        text-align: right;\n",
       "    }\n",
       "</style>\n",
       "<table border=\"1\" class=\"dataframe\">\n",
       "  <thead>\n",
       "    <tr style=\"text-align: right;\">\n",
       "      <th></th>\n",
       "      <th>property_type</th>\n",
       "      <th>sector</th>\n",
       "      <th>price</th>\n",
       "      <th>bedRoom</th>\n",
       "      <th>bathroom</th>\n",
       "      <th>balcony</th>\n",
       "      <th>agePossession</th>\n",
       "      <th>built_up_area</th>\n",
       "      <th>servant room</th>\n",
       "      <th>store room</th>\n",
       "      <th>furnishing_type</th>\n",
       "      <th>luxury_category</th>\n",
       "      <th>floor_category</th>\n",
       "    </tr>\n",
       "  </thead>\n",
       "  <tbody>\n",
       "    <tr>\n",
       "      <th>0</th>\n",
       "      <td>flat</td>\n",
       "      <td>sector 36</td>\n",
       "      <td>0.82</td>\n",
       "      <td>3.0</td>\n",
       "      <td>2.0</td>\n",
       "      <td>2</td>\n",
       "      <td>New Property</td>\n",
       "      <td>850.0</td>\n",
       "      <td>0.0</td>\n",
       "      <td>0.0</td>\n",
       "      <td>unfurnished</td>\n",
       "      <td>Low</td>\n",
       "      <td>Low Floor</td>\n",
       "    </tr>\n",
       "    <tr>\n",
       "      <th>1</th>\n",
       "      <td>flat</td>\n",
       "      <td>sector 89</td>\n",
       "      <td>0.95</td>\n",
       "      <td>2.0</td>\n",
       "      <td>2.0</td>\n",
       "      <td>2</td>\n",
       "      <td>New Property</td>\n",
       "      <td>1226.0</td>\n",
       "      <td>1.0</td>\n",
       "      <td>0.0</td>\n",
       "      <td>unfurnished</td>\n",
       "      <td>Low</td>\n",
       "      <td>Mid Floor</td>\n",
       "    </tr>\n",
       "    <tr>\n",
       "      <th>2</th>\n",
       "      <td>flat</td>\n",
       "      <td>sohna road</td>\n",
       "      <td>0.32</td>\n",
       "      <td>2.0</td>\n",
       "      <td>2.0</td>\n",
       "      <td>1</td>\n",
       "      <td>New Property</td>\n",
       "      <td>1000.0</td>\n",
       "      <td>0.0</td>\n",
       "      <td>0.0</td>\n",
       "      <td>unfurnished</td>\n",
       "      <td>Low</td>\n",
       "      <td>High Floor</td>\n",
       "    </tr>\n",
       "    <tr>\n",
       "      <th>3</th>\n",
       "      <td>flat</td>\n",
       "      <td>sector 92</td>\n",
       "      <td>1.60</td>\n",
       "      <td>3.0</td>\n",
       "      <td>4.0</td>\n",
       "      <td>3+</td>\n",
       "      <td>Relatively New</td>\n",
       "      <td>1615.0</td>\n",
       "      <td>1.0</td>\n",
       "      <td>0.0</td>\n",
       "      <td>semifurnished</td>\n",
       "      <td>High</td>\n",
       "      <td>Mid Floor</td>\n",
       "    </tr>\n",
       "    <tr>\n",
       "      <th>4</th>\n",
       "      <td>flat</td>\n",
       "      <td>sector 102</td>\n",
       "      <td>0.48</td>\n",
       "      <td>2.0</td>\n",
       "      <td>2.0</td>\n",
       "      <td>1</td>\n",
       "      <td>Relatively New</td>\n",
       "      <td>582.0</td>\n",
       "      <td>0.0</td>\n",
       "      <td>1.0</td>\n",
       "      <td>unfurnished</td>\n",
       "      <td>High</td>\n",
       "      <td>Mid Floor</td>\n",
       "    </tr>\n",
       "  </tbody>\n",
       "</table>\n",
       "</div>"
      ],
      "text/plain": [
       "  property_type      sector  price  bedRoom  bathroom balcony   agePossession  \\\n",
       "0          flat   sector 36   0.82      3.0       2.0       2    New Property   \n",
       "1          flat   sector 89   0.95      2.0       2.0       2    New Property   \n",
       "2          flat  sohna road   0.32      2.0       2.0       1    New Property   \n",
       "3          flat   sector 92   1.60      3.0       4.0      3+  Relatively New   \n",
       "4          flat  sector 102   0.48      2.0       2.0       1  Relatively New   \n",
       "\n",
       "   built_up_area  servant room  store room furnishing_type luxury_category  \\\n",
       "0          850.0           0.0         0.0     unfurnished             Low   \n",
       "1         1226.0           1.0         0.0     unfurnished             Low   \n",
       "2         1000.0           0.0         0.0     unfurnished             Low   \n",
       "3         1615.0           1.0         0.0   semifurnished            High   \n",
       "4          582.0           0.0         1.0     unfurnished            High   \n",
       "\n",
       "  floor_category  \n",
       "0      Low Floor  \n",
       "1      Mid Floor  \n",
       "2     High Floor  \n",
       "3      Mid Floor  \n",
       "4      Mid Floor  "
      ]
     },
     "execution_count": 19,
     "metadata": {},
     "output_type": "execute_result"
    }
   ],
   "source": [
    "df.head()"
   ]
  },
  {
   "cell_type": "code",
   "execution_count": 20,
   "id": "04b52a27",
   "metadata": {},
   "outputs": [],
   "source": [
    "X = df.drop(columns = ['price'])\n",
    "y = df['price']"
   ]
  },
  {
   "cell_type": "code",
   "execution_count": 21,
   "id": "70eb36af",
   "metadata": {},
   "outputs": [],
   "source": [
    "#applying the log1p transformation to the target variable\n",
    "y_transformed = np.log1p(y)"
   ]
  },
  {
   "cell_type": "markdown",
   "id": "67edac77",
   "metadata": {},
   "source": [
    "### Ordinal Encoding"
   ]
  },
  {
   "cell_type": "code",
   "execution_count": 22,
   "id": "4fc6a36d",
   "metadata": {},
   "outputs": [],
   "source": [
    "columns_to_encode = ['property_type','sector', 'balcony', 'agePossession', 'furnishing_type', 'luxury_category', 'floor_category']"
   ]
  },
  {
   "cell_type": "code",
   "execution_count": 25,
   "id": "571c4f7c",
   "metadata": {},
   "outputs": [],
   "source": [
    "#creating a column transformer for preprocessing \n",
    "preprocessor = ColumnTransformer(\n",
    "    transformers=[\n",
    "        ('num ', StandardScaler(), ['bedRoom', 'bathroom', 'built_up_area', 'servant room', 'store room']),\n",
    "        ('cat', OrdinalEncoder(), columns_to_encode)\n",
    "    ],\n",
    "    remainder= 'passthrough'\n",
    ")"
   ]
  },
  {
   "cell_type": "code",
   "execution_count": 31,
   "id": "08ae443c",
   "metadata": {},
   "outputs": [],
   "source": [
    "#creating a pipeline\n",
    "pipeline = Pipeline([\n",
    "    ('preprocessor', preprocessor),\n",
    "    ('regressor', LinearRegression())\n",
    "])"
   ]
  },
  {
   "cell_type": "code",
   "execution_count": 32,
   "id": "48534439",
   "metadata": {},
   "outputs": [],
   "source": [
    "#K-fold cross-validation\n",
    "kfold = KFold(n_splits= 10, shuffle= True, random_state= 42)\n",
    "scores = cross_val_score(pipeline, X, y_transformed, cv = kfold, scoring = 'r2')"
   ]
  },
  {
   "cell_type": "code",
   "execution_count": null,
   "id": "7fc358f6",
   "metadata": {},
   "outputs": [],
   "source": []
  }
 ],
 "metadata": {
  "kernelspec": {
   "display_name": "Python 3 (ipykernel)",
   "language": "python",
   "name": "python3"
  },
  "language_info": {
   "codemirror_mode": {
    "name": "ipython",
    "version": 3
   },
   "file_extension": ".py",
   "mimetype": "text/x-python",
   "name": "python",
   "nbconvert_exporter": "python",
   "pygments_lexer": "ipython3",
   "version": "3.9.13"
  }
 },
 "nbformat": 4,
 "nbformat_minor": 5
}
